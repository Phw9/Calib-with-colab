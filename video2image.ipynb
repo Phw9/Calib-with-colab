{
 "cells": [
  {
   "cell_type": "code",
   "execution_count": 1,
   "metadata": {},
   "outputs": [],
   "source": [
    "import cv2\n",
    "\n",
    "# 동영상 파일 열기\n",
    "video_path = '/home/phw/dev/calib/data/calibration.mov'\n",
    "# video_path = '/home/phw93/dev/calib/data/calibration2.mov'\n",
    "cap = cv2.VideoCapture(video_path)\n",
    "\n",
    "# 프레임 카운트 및 저장할 이미지 카운트 초기화\n",
    "frame_count = 0\n",
    "image_count = 0\n",
    "\n",
    "# 프레임 읽기\n",
    "while cap.isOpened():\n",
    "    # 프레임 읽기\n",
    "    ret, frame = cap.read()\n",
    "\n",
    "    if ret:\n",
    "        # 매 10번째 프레임만 이미지로 저장\n",
    "        if frame_count % 10 == 0:\n",
    "            # 이미지 파일로 저장\n",
    "            image_path = f'/home/phw/dev/calib/data/frame_{str(image_count).zfill(5)}.jpg'\n",
    "            cv2.imwrite(image_path, frame)\n",
    "            image_count += 1\n",
    "\n",
    "        # 다음 프레임으로 넘어가기\n",
    "        frame_count += 1\n",
    "    else:\n",
    "        break\n",
    "\n",
    "# 작업 완료 후 해제\n",
    "cap.release()"
   ]
  }
 ],
 "metadata": {
  "kernelspec": {
   "display_name": "Python 3 (ipykernel)",
   "language": "python",
   "name": "python3"
  },
  "language_info": {
   "codemirror_mode": {
    "name": "ipython",
    "version": 3
   },
   "file_extension": ".py",
   "mimetype": "text/x-python",
   "name": "python",
   "nbconvert_exporter": "python",
   "pygments_lexer": "ipython3",
   "version": "3.9.6"
  }
 },
 "nbformat": 4,
 "nbformat_minor": 2
}
